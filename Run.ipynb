{
 "cells": [
  {
   "cell_type": "code",
   "execution_count": null,
   "metadata": {},
   "outputs": [],
   "source": [
    "from Agent.agent import *\n",
    "from Agent.evaluation import *\n",
    "from envs.pysnake_env import *\n",
    "\n"
   ]
  },
  {
   "cell_type": "code",
   "execution_count": null,
   "metadata": {},
   "outputs": [],
   "source": [
    "env = SnakeEnv()"
   ]
  },
  {
   "cell_type": "code",
   "execution_count": null,
   "metadata": {},
   "outputs": [],
   "source": [
    "# Initialize the DQN agent\n",
    "state_size = 11  # Example: size of the state space\n",
    "action_size = 4  # Example: number of actions\n",
    "batch_size = 128\n",
    "gamma = 0.99  # Discount factor\n",
    "tau = 0.001\n",
    "start_timesteps = 3e4\n",
    "eval_freq = 2e3\n",
    "max_timesteps = 1e6\n",
    "epsilon = 1.0\n",
    "epsilon_decay = 0.995\n",
    "epsilon_min = 0.01\n",
    "filename = \"DQN_model\"\n",
    "save_models = True\n",
    "capacity = 100000\n"
   ]
  },
  {
   "cell_type": "code",
   "execution_count": null,
   "metadata": {},
   "outputs": [],
   "source": [
    "if not os.path.exists(\"./results\"):\n",
    "    os.makedirs(\"./results\")\n",
    "if save_models and not os.path.exists(\"./pytorch_models\"):\n",
    "    os.makedirs(\"./pytorch_models\")"
   ]
  },
  {
   "cell_type": "code",
   "execution_count": null,
   "metadata": {},
   "outputs": [],
   "source": [
    "agent = DQNAgent(capacity,state_size, action_size, batch_size, gamma,tau)"
   ]
  },
  {
   "cell_type": "code",
   "execution_count": null,
   "metadata": {},
   "outputs": [],
   "source": [
    "total_timesteps =0\n",
    "timesteps_since_eval = 0\n",
    "episode_num = 0\n",
    "done = True"
   ]
  },
  {
   "cell_type": "code",
   "execution_count": null,
   "metadata": {},
   "outputs": [],
   "source": []
  },
  {
   "cell_type": "code",
   "execution_count": null,
   "metadata": {},
   "outputs": [],
   "source": [
    "\"\"\"\n",
    "for episode in range(num_episodes):\n",
    "    state = env.reset()  # Example: initialize the environment\n",
    "    done = False\n",
    "    total_reward = 0\n",
    "\n",
    "    while not done:\n",
    "        if episode < explore_episodes:\n",
    "            action = env.action_space.sample()  # Explore randomly\n",
    "        else:\n",
    "            action = agent.act(state, epsilon, exploration=True)  # Exploit using the agent's policy\n",
    "\n",
    "        next_state, reward, done, _ = env.step(action)  # Example: execute action in the environment\n",
    "\n",
    "        agent.replay_memory.push((state, action, reward, next_state, done))\n",
    "        agent.train()\n",
    "\n",
    "        state = next_state\n",
    "        total_reward += reward\n",
    "\n",
    "    epsilon = max(epsilon * epsilon_decay, epsilon_min)\n",
    "\n",
    "    print(\"Episode: {}, Reward: {}, Epsilon: {:.4f}\".format(episode, total_reward, epsilon))\n",
    "\n",
    "    if episode %/evaluation_interval:\n",
    "        \n",
    "\n",
    "\"\"\""
   ]
  },
  {
   "cell_type": "code",
   "execution_count": null,
   "metadata": {},
   "outputs": [],
   "source": [
    "num_evaluations = 0\n",
    "episodes_rewards = []"
   ]
  },
  {
   "cell_type": "code",
   "execution_count": null,
   "metadata": {},
   "outputs": [],
   "source": [
    "while total_timesteps < max_timesteps:\n",
    "\n",
    "    if done:\n",
    "\n",
    "        if total_timesteps !=0:\n",
    "            print(\"Total Timesteps : {} Episode Num: {} Reward: {}, Score: {}\".format(total_timesteps, episode_num, episode_reward,env.score))\n",
    "            agent.train()\n",
    "\n",
    "        if timesteps_since_eval >= eval_freq:\n",
    "            timesteps_since_eval %= eval_freq\n",
    "            evaluate_policy(agent,env)\n",
    "            num_evaluations+=1\n",
    "            \n",
    "            agent.save_policy(directory=\"./pytorch_models\", filename=\"DQN_model_{}.pth\".format(time.time()))\n",
    "            #np.save(\"./results/%s\" %((filename),evaluations))\n",
    "\n",
    "        obs = env.reset()\n",
    "        done = False\n",
    "        episode_reward = 0\n",
    "        episode_timesteps=0\n",
    "        episode_num +=1\n",
    "        epsilon = max(epsilon * epsilon_decay, epsilon_min)\n",
    "        episodes_rewards.append(episode_reward)\n",
    "\n",
    "\n",
    "    if total_timesteps < start_timesteps:\n",
    "        action = env.action_space.sample()\n",
    "    else:\n",
    "        action = agent.act(obs, epsilon, exploration=True)\n",
    "\n",
    "    new_obs, reward, done, _ = env.step(action)\n",
    "\n",
    "    episode_reward += reward\n",
    "    agent.replay_memory.push((obs, action, reward, new_obs, done))\n",
    "\n",
    "    obs = new_obs\n",
    "    episode_timesteps+=1\n",
    "    total_timesteps+=1\n",
    "    timesteps_since_eval+=1\n",
    "    \n",
    "    \n",
    "\n",
    "\n",
    "\n",
    "        "
   ]
  },
  {
   "cell_type": "code",
   "execution_count": null,
   "metadata": {},
   "outputs": [],
   "source": []
  }
 ],
 "metadata": {
  "kernelspec": {
   "display_name": "Python 3",
   "language": "python",
   "name": "python3"
  },
  "language_info": {
   "codemirror_mode": {
    "name": "ipython",
    "version": 3
   },
   "file_extension": ".py",
   "mimetype": "text/x-python",
   "name": "python",
   "nbconvert_exporter": "python",
   "pygments_lexer": "ipython3",
   "version": "3.10.6"
  },
  "orig_nbformat": 4
 },
 "nbformat": 4,
 "nbformat_minor": 2
}
